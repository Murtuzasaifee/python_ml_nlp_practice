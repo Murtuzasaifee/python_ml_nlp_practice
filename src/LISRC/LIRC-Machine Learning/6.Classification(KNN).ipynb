{
 "cells": [
  {
   "cell_type": "code",
   "execution_count": 1,
   "metadata": {},
   "outputs": [],
   "source": [
    "import pandas as pd\n",
    "import os"
   ]
  },
  {
   "cell_type": "code",
   "execution_count": 2,
   "metadata": {},
   "outputs": [],
   "source": [
    "def get_abs_path(filename):\n",
    "    try:\n",
    "        current_directory = os.getcwd()\n",
    "        file_path = os.path.join(current_directory, '..','..', 'resources', filename)\n",
    "        return os.path.abspath(file_path)\n",
    "    except Exception as ex:\n",
    "        print(ex)\n",
    "        return None"
   ]
  },
  {
   "cell_type": "code",
   "execution_count": 3,
   "metadata": {},
   "outputs": [
    {
     "data": {
      "text/html": [
       "<div>\n",
       "<style scoped>\n",
       "    .dataframe tbody tr th:only-of-type {\n",
       "        vertical-align: middle;\n",
       "    }\n",
       "\n",
       "    .dataframe tbody tr th {\n",
       "        vertical-align: top;\n",
       "    }\n",
       "\n",
       "    .dataframe thead th {\n",
       "        text-align: right;\n",
       "    }\n",
       "</style>\n",
       "<table border=\"1\" class=\"dataframe\">\n",
       "  <thead>\n",
       "    <tr style=\"text-align: right;\">\n",
       "      <th></th>\n",
       "      <th>preg_count</th>\n",
       "      <th>glucose_concentration</th>\n",
       "      <th>diastolic_bp</th>\n",
       "      <th>triceps_skin_fold_thickness</th>\n",
       "      <th>two_hr_serum_insulin</th>\n",
       "      <th>bmi</th>\n",
       "      <th>diabetes_pedi</th>\n",
       "      <th>age</th>\n",
       "      <th>diabetes_class</th>\n",
       "    </tr>\n",
       "  </thead>\n",
       "  <tbody>\n",
       "    <tr>\n",
       "      <th>0</th>\n",
       "      <td>6</td>\n",
       "      <td>148</td>\n",
       "      <td>72</td>\n",
       "      <td>35</td>\n",
       "      <td>0</td>\n",
       "      <td>33.6</td>\n",
       "      <td>0.627</td>\n",
       "      <td>50</td>\n",
       "      <td>1</td>\n",
       "    </tr>\n",
       "    <tr>\n",
       "      <th>1</th>\n",
       "      <td>1</td>\n",
       "      <td>85</td>\n",
       "      <td>66</td>\n",
       "      <td>29</td>\n",
       "      <td>0</td>\n",
       "      <td>26.6</td>\n",
       "      <td>0.351</td>\n",
       "      <td>31</td>\n",
       "      <td>0</td>\n",
       "    </tr>\n",
       "    <tr>\n",
       "      <th>2</th>\n",
       "      <td>8</td>\n",
       "      <td>183</td>\n",
       "      <td>64</td>\n",
       "      <td>0</td>\n",
       "      <td>0</td>\n",
       "      <td>23.3</td>\n",
       "      <td>0.672</td>\n",
       "      <td>32</td>\n",
       "      <td>1</td>\n",
       "    </tr>\n",
       "    <tr>\n",
       "      <th>3</th>\n",
       "      <td>1</td>\n",
       "      <td>89</td>\n",
       "      <td>66</td>\n",
       "      <td>23</td>\n",
       "      <td>94</td>\n",
       "      <td>28.1</td>\n",
       "      <td>0.167</td>\n",
       "      <td>21</td>\n",
       "      <td>0</td>\n",
       "    </tr>\n",
       "    <tr>\n",
       "      <th>4</th>\n",
       "      <td>0</td>\n",
       "      <td>137</td>\n",
       "      <td>40</td>\n",
       "      <td>35</td>\n",
       "      <td>168</td>\n",
       "      <td>43.1</td>\n",
       "      <td>2.288</td>\n",
       "      <td>33</td>\n",
       "      <td>1</td>\n",
       "    </tr>\n",
       "  </tbody>\n",
       "</table>\n",
       "</div>"
      ],
      "text/plain": [
       "   preg_count  glucose_concentration  diastolic_bp  \\\n",
       "0           6                    148            72   \n",
       "1           1                     85            66   \n",
       "2           8                    183            64   \n",
       "3           1                     89            66   \n",
       "4           0                    137            40   \n",
       "\n",
       "   triceps_skin_fold_thickness  two_hr_serum_insulin   bmi  diabetes_pedi  \\\n",
       "0                           35                     0  33.6          0.627   \n",
       "1                           29                     0  26.6          0.351   \n",
       "2                            0                     0  23.3          0.672   \n",
       "3                           23                    94  28.1          0.167   \n",
       "4                           35                   168  43.1          2.288   \n",
       "\n",
       "   age  diabetes_class  \n",
       "0   50               1  \n",
       "1   31               0  \n",
       "2   32               1  \n",
       "3   21               0  \n",
       "4   33               1  "
      ]
     },
     "execution_count": 3,
     "metadata": {},
     "output_type": "execute_result"
    }
   ],
   "source": [
    "df = pd.read_csv(get_abs_path('pima.csv'))\n",
    "df.head(5)"
   ]
  },
  {
   "cell_type": "code",
   "execution_count": 4,
   "metadata": {},
   "outputs": [
    {
     "data": {
      "text/plain": [
       "Index(['preg_count', 'glucose_concentration', 'diastolic_bp',\n",
       "       'triceps_skin_fold_thickness', 'two_hr_serum_insulin', 'bmi',\n",
       "       'diabetes_pedi', 'age', 'diabetes_class'],\n",
       "      dtype='object')"
      ]
     },
     "execution_count": 4,
     "metadata": {},
     "output_type": "execute_result"
    }
   ],
   "source": [
    "df.columns"
   ]
  },
  {
   "cell_type": "code",
   "execution_count": 5,
   "metadata": {},
   "outputs": [],
   "source": [
    "X = df[['preg_count', 'glucose_concentration', 'diastolic_bp',\n",
    "       'triceps_skin_fold_thickness', 'two_hr_serum_insulin', 'bmi',\n",
    "       'diabetes_pedi', 'age']]\n",
    "\n",
    "y = df['diabetes_class']"
   ]
  },
  {
   "cell_type": "code",
   "execution_count": 6,
   "metadata": {},
   "outputs": [],
   "source": [
    "from sklearn.model_selection import train_test_split\n",
    "\n",
    "X_train,X_test,y_train,y_test = train_test_split(X,y,train_size=0.80,random_state=42)"
   ]
  },
  {
   "cell_type": "code",
   "execution_count": 7,
   "metadata": {},
   "outputs": [
    {
     "data": {
      "text/plain": [
       "0.7012987012987013"
      ]
     },
     "execution_count": 7,
     "metadata": {},
     "output_type": "execute_result"
    }
   ],
   "source": [
    "# For 2 neighbours\n",
    "\n",
    "from sklearn.neighbors import KNeighborsClassifier\n",
    "from sklearn.metrics import accuracy_score\n",
    "\n",
    "knn2 = KNeighborsClassifier(n_neighbors=2)\n",
    "knn2.fit(X_train, y_train)\n",
    "\n",
    "y_pred2 = knn2.predict(X_test)\n",
    "\n",
    "accuracy_score(y_test, y_pred2)"
   ]
  },
  {
   "cell_type": "code",
   "execution_count": 8,
   "metadata": {},
   "outputs": [
    {
     "name": "stdout",
     "output_type": "stream",
     "text": [
      "Accuracy Score of 2 neighbours : 0.7012987012987013\n",
      "Accuracy Score of 3 neighbours : 0.6493506493506493\n",
      "Accuracy Score of 4 neighbours : 0.7077922077922078\n",
      "Accuracy Score of 5 neighbours : 0.6623376623376623\n",
      "Accuracy Score of 6 neighbours : 0.7272727272727273\n",
      "Accuracy Score of 7 neighbours : 0.6883116883116883\n",
      "Accuracy Score of 8 neighbours : 0.7467532467532467\n",
      "Accuracy Score of 9 neighbours : 0.7207792207792207\n",
      "Accuracy Score of 10 neighbours : 0.7662337662337663\n",
      "Accuracy Score of 11 neighbours : 0.7337662337662337\n",
      "Accuracy Score of 12 neighbours : 0.7792207792207793\n",
      "Accuracy Score of 13 neighbours : 0.7727272727272727\n",
      "Accuracy Score of 14 neighbours : 0.7727272727272727\n",
      "Accuracy Score of 15 neighbours : 0.7597402597402597\n",
      "Accuracy Score of 16 neighbours : 0.7792207792207793\n",
      "Accuracy Score of 17 neighbours : 0.7727272727272727\n",
      "Accuracy Score of 18 neighbours : 0.7597402597402597\n",
      "Accuracy Score of 19 neighbours : 0.7532467532467533\n"
     ]
    }
   ],
   "source": [
    "# For 20 neighbours\n",
    "\n",
    "from sklearn.neighbors import KNeighborsClassifier\n",
    "from sklearn.metrics import accuracy_score\n",
    "\n",
    "\n",
    "for i in range(2,20):\n",
    "    knn = KNeighborsClassifier(n_neighbors=i)\n",
    "    knn.fit(X_train,y_train) \n",
    "    y_pred = knn.predict(X_test)\n",
    "    acc_score = accuracy_score(y_test, y_pred)\n",
    "    print(f\"Accuracy Score of {i} neighbours : {acc_score}\")   "
   ]
  },
  {
   "cell_type": "code",
   "execution_count": 9,
   "metadata": {},
   "outputs": [
    {
     "name": "stdout",
     "output_type": "stream",
     "text": [
      "{'n_neighbors': 14}\n",
      "0.7578558696205755\n"
     ]
    }
   ],
   "source": [
    "from sklearn.model_selection import GridSearchCV\n",
    "\n",
    "grid = GridSearchCV(estimator=KNeighborsClassifier(),param_grid={'n_neighbors':range(2,20)},cv=5)\n",
    "grid.fit(X,y)\n",
    "\n",
    "print(grid.best_params_)\n",
    "print(grid.best_score_)\n"
   ]
  },
  {
   "cell_type": "code",
   "execution_count": 10,
   "metadata": {},
   "outputs": [
    {
     "data": {
      "text/plain": [
       "0.7727272727272727"
      ]
     },
     "execution_count": 10,
     "metadata": {},
     "output_type": "execute_result"
    }
   ],
   "source": [
    "knn14 = KNeighborsClassifier(n_neighbors=14)\n",
    "knn14.fit(X_train, y_train)\n",
    "y_pred14 = knn14.predict(X_test)\n",
    "accuracy_score(y_test, y_pred14)"
   ]
  },
  {
   "cell_type": "code",
   "execution_count": null,
   "metadata": {},
   "outputs": [],
   "source": []
  }
 ],
 "metadata": {
  "kernelspec": {
   "display_name": "Python 3",
   "language": "python",
   "name": "python3"
  },
  "language_info": {
   "codemirror_mode": {
    "name": "ipython",
    "version": 3
   },
   "file_extension": ".py",
   "mimetype": "text/x-python",
   "name": "python",
   "nbconvert_exporter": "python",
   "pygments_lexer": "ipython3",
   "version": "3.10.0"
  }
 },
 "nbformat": 4,
 "nbformat_minor": 2
}
