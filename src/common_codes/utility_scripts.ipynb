{
 "cells": [
  {
   "cell_type": "code",
   "execution_count": 1,
   "metadata": {},
   "outputs": [
    {
     "name": "stdout",
     "output_type": "stream",
     "text": [
      "Root directory added to sys.path: /Users/murtuzasaifee/Documents/Personal/Codes/MLWorkspace/python_ml_nlp/src\n"
     ]
    }
   ],
   "source": [
    "## Whenever the common Codes stopped getting imported, Run this Code to get that added in the sys.path\n",
    "\n",
    "import sys\n",
    "import os\n",
    "\n",
    "# Move up one directory (adjust `..` based on depth)\n",
    "root_dir = os.path.abspath(os.path.join(os.getcwd(), \"..\"))\n",
    "\n",
    "# Add to sys.path\n",
    "sys.path.append(root_dir)\n",
    "\n",
    "print(f\"Root directory added to sys.path: {root_dir}\")"
   ]
  },
  {
   "cell_type": "code",
   "execution_count": null,
   "metadata": {},
   "outputs": [],
   "source": []
  }
 ],
 "metadata": {
  "kernelspec": {
   "display_name": "venv",
   "language": "python",
   "name": "python3"
  },
  "language_info": {
   "codemirror_mode": {
    "name": "ipython",
    "version": 3
   },
   "file_extension": ".py",
   "mimetype": "text/x-python",
   "name": "python",
   "nbconvert_exporter": "python",
   "pygments_lexer": "ipython3",
   "version": "3.12.0"
  }
 },
 "nbformat": 4,
 "nbformat_minor": 2
}
