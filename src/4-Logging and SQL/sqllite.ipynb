{
 "cells": [
  {
   "cell_type": "code",
   "execution_count": 14,
   "metadata": {},
   "outputs": [],
   "source": [
    "import sqlite3"
   ]
  },
  {
   "cell_type": "code",
   "execution_count": 15,
   "metadata": {},
   "outputs": [],
   "source": [
    "connection = sqlite3.connect('data.db')\n",
    "cursor = connection.cursor()"
   ]
  },
  {
   "cell_type": "code",
   "execution_count": 16,
   "metadata": {},
   "outputs": [],
   "source": [
    "## Create a table\n",
    "\n",
    "cursor.execute('''CREATE TABLE IF Not Exists employees (\n",
    "    id Integer Primary Key, \n",
    "    username Text Not Null,\n",
    "    password Text,\n",
    "    department Text\n",
    "    )'''\n",
    "    )\n",
    "\n",
    "connection.commit()"
   ]
  },
  {
   "cell_type": "code",
   "execution_count": 17,
   "metadata": {},
   "outputs": [],
   "source": [
    "cursor.execute('INSERT INTO employees(username,password, department) VALUES (\"admin\", \"admin\", \"admin\")')\n",
    "\n",
    "cursor.execute('INSERT INTO employees(username,password, department) VALUES (\"john\", \"karlo\", \"devops\")')\n",
    "\n",
    "cursor.execute('INSERT INTO employees(username,password, department) VALUES (\"bob\", \"kalo\", \"support\")')\n",
    "\n",
    "connection.commit()"
   ]
  },
  {
   "cell_type": "code",
   "execution_count": 21,
   "metadata": {},
   "outputs": [
    {
     "name": "stdout",
     "output_type": "stream",
     "text": [
      "(1, 'admin', 'admin', 'admin')\n",
      "(2, 'john', 'karlo', 'devops')\n",
      "(3, 'bob', 'kalo', 'devops')\n"
     ]
    }
   ],
   "source": [
    "cursor.execute('Select * from employees')\n",
    "rows = cursor.fetchall()\n",
    "\n",
    "for row in rows:\n",
    "    print(row)"
   ]
  },
  {
   "cell_type": "code",
   "execution_count": 20,
   "metadata": {},
   "outputs": [],
   "source": [
    "cursor.execute('''\n",
    "    UPDATE employees \n",
    "    SET department = \"devops\" \n",
    "    WHERE username = \"bob\"    \n",
    "''')\n",
    "\n",
    "connection.commit()"
   ]
  },
  {
   "cell_type": "code",
   "execution_count": 22,
   "metadata": {},
   "outputs": [],
   "source": [
    "cursor.execute('''\n",
    "    DELETE from employees\n",
    "    where username = \"bob\"\n",
    "    ''')\n",
    "\n",
    "connection.commit()"
   ]
  },
  {
   "cell_type": "code",
   "execution_count": 23,
   "metadata": {},
   "outputs": [
    {
     "name": "stdout",
     "output_type": "stream",
     "text": [
      "(1, 'admin', 'admin', 'admin')\n",
      "(2, 'john', 'karlo', 'devops')\n"
     ]
    }
   ],
   "source": [
    "cursor.execute('Select * from employees')\n",
    "rows = cursor.fetchall()\n",
    "\n",
    "for row in rows:\n",
    "    print(row)"
   ]
  },
  {
   "cell_type": "code",
   "execution_count": 24,
   "metadata": {},
   "outputs": [],
   "source": [
    "connection.close()"
   ]
  },
  {
   "cell_type": "code",
   "execution_count": null,
   "metadata": {},
   "outputs": [],
   "source": []
  }
 ],
 "metadata": {
  "kernelspec": {
   "display_name": "Python 3",
   "language": "python",
   "name": "python3"
  },
  "language_info": {
   "codemirror_mode": {
    "name": "ipython",
    "version": 3
   },
   "file_extension": ".py",
   "mimetype": "text/x-python",
   "name": "python",
   "nbconvert_exporter": "python",
   "pygments_lexer": "ipython3",
   "version": "3.10.0"
  }
 },
 "nbformat": 4,
 "nbformat_minor": 2
}
