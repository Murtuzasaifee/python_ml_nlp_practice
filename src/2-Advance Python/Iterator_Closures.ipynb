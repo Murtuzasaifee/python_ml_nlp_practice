{
 "cells": [
  {
   "cell_type": "markdown",
   "metadata": {},
   "source": [
    "##### Iterator"
   ]
  },
  {
   "cell_type": "code",
   "execution_count": null,
   "metadata": {},
   "outputs": [],
   "source": [
    "my_list = [1,2,3,4,5,6]\n",
    "iterator = iter(my_list)\n",
    "\n",
    "print(iterator)"
   ]
  },
  {
   "cell_type": "code",
   "execution_count": null,
   "metadata": {},
   "outputs": [],
   "source": [
    "try:\n",
    "    print(next(iterator))\n",
    "except StopIteration:\n",
    "    print(\"There are no elements in the iterator\")"
   ]
  },
  {
   "cell_type": "code",
   "execution_count": 21,
   "metadata": {},
   "outputs": [],
   "source": [
    "my_str = \"Hello World !!\"\n",
    "str_iterator = iter(my_str)"
   ]
  },
  {
   "cell_type": "code",
   "execution_count": null,
   "metadata": {},
   "outputs": [],
   "source": [
    "\n",
    "try:\n",
    "    print(next(str_iterator))\n",
    "except StopIteration:\n",
    "    print(\"There are no elements in the iterator\")"
   ]
  },
  {
   "cell_type": "markdown",
   "metadata": {},
   "source": [
    "##### Generator"
   ]
  },
  {
   "cell_type": "code",
   "execution_count": 32,
   "metadata": {},
   "outputs": [],
   "source": [
    "def square(number):\n",
    "    for i in range(3):\n",
    "        yield i**2\n",
    "\n",
    "square(3)\n",
    "\n",
    "x = square(3)\n"
   ]
  },
  {
   "cell_type": "code",
   "execution_count": null,
   "metadata": {},
   "outputs": [],
   "source": [
    "for i in square(3):\n",
    "    print(i)"
   ]
  },
  {
   "cell_type": "code",
   "execution_count": null,
   "metadata": {},
   "outputs": [],
   "source": [
    "next(x)"
   ]
  },
  {
   "cell_type": "code",
   "execution_count": 44,
   "metadata": {},
   "outputs": [],
   "source": [
    "import os\n",
    "def get_abs_path(filename):\n",
    "    try:\n",
    "        current_directory = os.getcwd()\n",
    "        file_path = os.path.join(current_directory, '..', 'resources', filename)\n",
    "        return os.path.abspath(file_path)\n",
    "    except Exception as ex:\n",
    "        print(ex)\n",
    "        return None"
   ]
  },
  {
   "cell_type": "code",
   "execution_count": 45,
   "metadata": {},
   "outputs": [],
   "source": [
    "## Practical Example : Read large file without loading the whole file in the memory\n",
    "\n",
    "def read_large_file(file_path):\n",
    "    with open(get_abs_path(file_path),'r') as file:\n",
    "        for line in file:\n",
    "            yield line"
   ]
  },
  {
   "cell_type": "code",
   "execution_count": null,
   "metadata": {},
   "outputs": [],
   "source": [
    "for line in read_large_file('large_file.txt'):\n",
    "    print(line)"
   ]
  },
  {
   "cell_type": "markdown",
   "metadata": {},
   "source": [
    "##### Decorators"
   ]
  },
  {
   "cell_type": "code",
   "execution_count": 17,
   "metadata": {},
   "outputs": [],
   "source": [
    "## Closures\n",
    "\n",
    "def main_welcome(msg):\n",
    "    def sub_welcome():\n",
    "        print(\"Hello !!\")\n",
    "        print(msg)\n",
    "        print(\"World !!\")\n",
    "    return sub_welcome()\n",
    "\n",
    "\n",
    "def main_welcome2(func, msg):\n",
    "    def sub_welcome2():\n",
    "        print(\"Hello !!\")\n",
    "        func(msg)\n",
    "        print(\"World !!\")\n",
    "    return sub_welcome2()"
   ]
  },
  {
   "cell_type": "code",
   "execution_count": 18,
   "metadata": {},
   "outputs": [
    {
     "name": "stdout",
     "output_type": "stream",
     "text": [
      "Hello !!\n",
      "New\n",
      "World !!\n",
      "Hello !!\n",
      "New\n",
      "World !!\n"
     ]
    }
   ],
   "source": [
    "main_welcome(\"New\")\n",
    "main_welcome2(print ,\"New\")"
   ]
  },
  {
   "cell_type": "code",
   "execution_count": 19,
   "metadata": {},
   "outputs": [],
   "source": [
    "## Decorators\n",
    "\n",
    "def main_welcome(func):\n",
    "    def sub_welcome():\n",
    "        print(\"Hello !!\")\n",
    "        func()\n",
    "        print(\"World !!\")\n",
    "    return sub_welcome()"
   ]
  },
  {
   "cell_type": "code",
   "execution_count": 22,
   "metadata": {},
   "outputs": [
    {
     "name": "stdout",
     "output_type": "stream",
     "text": [
      "Hello !!\n",
      "Welcome\n",
      "World !!\n"
     ]
    }
   ],
   "source": [
    "@main_welcome\n",
    "def greetings():\n",
    "    print(\"Welcome\")"
   ]
  },
  {
   "cell_type": "code",
   "execution_count": 24,
   "metadata": {},
   "outputs": [],
   "source": [
    "def my_decorator(func):\n",
    "    def wrapper():\n",
    "        print(\"Print before function\")\n",
    "        func()\n",
    "        print(\"Print after function\")\n",
    "    return wrapper()\n",
    "\n"
   ]
  },
  {
   "cell_type": "code",
   "execution_count": 25,
   "metadata": {},
   "outputs": [
    {
     "name": "stdout",
     "output_type": "stream",
     "text": [
      "Print before function\n",
      "This is a function\n",
      "Print after function\n"
     ]
    }
   ],
   "source": [
    "@my_decorator\n",
    "def my_function():\n",
    "    print(\"This is a function\")"
   ]
  },
  {
   "cell_type": "code",
   "execution_count": 28,
   "metadata": {},
   "outputs": [],
   "source": [
    "## Decorator with arguments\n",
    "\n",
    "def repeat(n):\n",
    "    def decorator(func):\n",
    "        def wrapper(*args, **kwargs):\n",
    "            for _ in range(n):\n",
    "                func(*args,**kwargs)\n",
    "        return wrapper\n",
    "    return decorator\n"
   ]
  },
  {
   "cell_type": "code",
   "execution_count": 29,
   "metadata": {},
   "outputs": [],
   "source": [
    "@repeat(3)\n",
    "def hello():\n",
    "    print(\"Hello\")"
   ]
  },
  {
   "cell_type": "code",
   "execution_count": 30,
   "metadata": {},
   "outputs": [
    {
     "name": "stdout",
     "output_type": "stream",
     "text": [
      "Hello\n",
      "Hello\n",
      "Hello\n"
     ]
    }
   ],
   "source": [
    "hello()"
   ]
  },
  {
   "cell_type": "markdown",
   "metadata": {},
   "source": [
    "##### Decorator Examples"
   ]
  },
  {
   "cell_type": "code",
   "execution_count": 2,
   "metadata": {},
   "outputs": [
    {
     "name": "stdout",
     "output_type": "stream",
     "text": [
      "DB connection created\n",
      "True\n"
     ]
    }
   ],
   "source": [
    "## Singeleton Pattern\n",
    "def singleton(cls):\n",
    "    instances = {}\n",
    "    def get_instance(*args,**kwargs):\n",
    "        if cls not in instances:\n",
    "            instances[cls] = cls(*args,**kwargs)\n",
    "        return instances[cls]\n",
    "    return get_instance\n",
    "\n",
    "@singleton\n",
    "class DBConnection:\n",
    "    def __init__(self):\n",
    "        print(\"DB connection created\")\n",
    "        \n",
    "db1 = DBConnection()\n",
    "db2 = DBConnection()\n",
    "print(db1 is db2)"
   ]
  },
  {
   "cell_type": "code",
   "execution_count": 3,
   "metadata": {},
   "outputs": [],
   "source": [
    "## Write a decorator named `open_file` that manages the opening and closing of a file. Apply this decorator to a function that writes some text to a file.\n",
    "\n",
    "def open_file(file_name, mode):\n",
    "    def decorator(func):\n",
    "        def wrapper(*args, **kwargs):\n",
    "            with open(file_name, mode) as file:\n",
    "                return func(file, *args, **kwargs)\n",
    "        return wrapper\n",
    "    return decorator\n",
    "\n",
    "@open_file('text.txt', 'w')\n",
    "def write_to_file(file, text):\n",
    "    file.write(text)\n",
    "    \n",
    "    \n",
    "write_to_file('Hello, world!')"
   ]
  },
  {
   "cell_type": "code",
   "execution_count": 13,
   "metadata": {},
   "outputs": [
    {
     "name": "stdout",
     "output_type": "stream",
     "text": [
      "John Doe\n",
      "John Doe\n",
      "32\n"
     ]
    }
   ],
   "source": [
    "## Passing own custom instance to the function from decorator and using it in the function\n",
    "\n",
    "## Also another example of chaining decorators\n",
    "\n",
    "class MyParentClass:\n",
    "    def __init__(self, name):\n",
    "        self.name = name\n",
    "\n",
    "class MyChildClass(MyParentClass):\n",
    "    def __init__(self, name, age):\n",
    "        super().__init__(name)\n",
    "        self.age = age\n",
    "      \n",
    "        \n",
    "def getting_customer_var_in_return(func):\n",
    "    def wrapper(*args, **kwargs):\n",
    "        myParentClass = MyParentClass(\"John\")\n",
    "        return func(myParentClass,*args, **kwargs)\n",
    "    return wrapper\n",
    "\n",
    "\n",
    "        \n",
    "def getting_customer_var_in_return_child(func):\n",
    "    def wrapper(myParentClass, *args, **kwargs):\n",
    "        myChildClass = MyChildClass(myParentClass.name,32)\n",
    "        return func(myChildClass,*args, **kwargs)\n",
    "    return wrapper\n",
    "\n",
    "\n",
    "@getting_customer_var_in_return\n",
    "def get_name(myParentClass, second_name):\n",
    "    print(f\"{myParentClass.name} {second_name}\")\n",
    "    \n",
    "    \n",
    "@getting_customer_var_in_return\n",
    "@getting_customer_var_in_return_child\n",
    "def get_name_age(myChildClass, second_name):\n",
    "    print(f\"{myChildClass.name} {second_name}\")\n",
    "    print(f\"{myChildClass.age}\")\n",
    "    \n",
    "    \n",
    "get_name(\"Doe\")\n",
    "\n",
    "get_name_age(\"Doe\")\n",
    "\n"
   ]
  },
  {
   "cell_type": "code",
   "execution_count": null,
   "metadata": {},
   "outputs": [],
   "source": []
  }
 ],
 "metadata": {
  "kernelspec": {
   "display_name": "Python 3",
   "language": "python",
   "name": "python3"
  },
  "language_info": {
   "codemirror_mode": {
    "name": "ipython",
    "version": 3
   },
   "file_extension": ".py",
   "mimetype": "text/x-python",
   "name": "python",
   "nbconvert_exporter": "python",
   "pygments_lexer": "ipython3",
   "version": "3.12.0"
  }
 },
 "nbformat": 4,
 "nbformat_minor": 2
}
