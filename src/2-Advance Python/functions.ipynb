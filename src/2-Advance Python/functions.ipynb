{
 "cells": [
  {
   "cell_type": "code",
   "execution_count": 2,
   "metadata": {},
   "outputs": [],
   "source": [
    "## Syntax\n",
    "\n",
    "def function_name(parameters):\n",
    "    \"\"\"Docstring\"\"\"\n",
    "    ## function body\n",
    "    return expression"
   ]
  },
  {
   "cell_type": "code",
   "execution_count": 3,
   "metadata": {},
   "outputs": [
    {
     "name": "stdout",
     "output_type": "stream",
     "text": [
      "Hello Saifee\n",
      "Hello Guest\n"
     ]
    }
   ],
   "source": [
    "## Default parameter\n",
    "\n",
    "def greet(name=\"Guest\"):\n",
    "    print(f\"Hello {name}\")\n",
    "\n",
    "greet(\"Saifee\")\n",
    "greet()"
   ]
  },
  {
   "cell_type": "markdown",
   "metadata": {},
   "source": [
    "##### Varaible Length Parameters"
   ]
  },
  {
   "cell_type": "code",
   "execution_count": 4,
   "metadata": {},
   "outputs": [
    {
     "name": "stdout",
     "output_type": "stream",
     "text": [
      "Positional Arguments: 1\n",
      "Positional Arguments: 2\n",
      "Positional Arguments: 3\n",
      "Positional Arguments: Hello\n",
      "Positional Arguments: 3.12\n",
      "Positional Arguments: True\n"
     ]
    }
   ],
   "source": [
    "### Positional Arguments\n",
    "def print_numbers(*args):\n",
    "    for val in args:\n",
    "        print(f\"Positional Arguments: {val}\")\n",
    "\n",
    "print_numbers(1,2,3,\"Hello\",3.12,True)"
   ]
  },
  {
   "cell_type": "code",
   "execution_count": 7,
   "metadata": {},
   "outputs": [
    {
     "name": "stdout",
     "output_type": "stream",
     "text": [
      "name:Guest\n",
      "age:32\n"
     ]
    }
   ],
   "source": [
    "### Keyword Arguments\n",
    "### In keyword arguments parameters should be in key, value pair\n",
    "def print_items(**kwargs):\n",
    "    for key,value in kwargs.items():\n",
    "        print(f\"{key}:{value}\")\n",
    "\n",
    "print_items(name=\"Guest\",age=32)"
   ]
  },
  {
   "cell_type": "code",
   "execution_count": 8,
   "metadata": {},
   "outputs": [
    {
     "name": "stdout",
     "output_type": "stream",
     "text": [
      "Positional Arguments: 1\n",
      "Positional Arguments: 2\n",
      "Positional Arguments: 3\n",
      "Positional Arguments: Saifee\n",
      "name:Guest\n",
      "age:32\n"
     ]
    }
   ],
   "source": [
    "def print_details(*args, **kwargs):\n",
    "    for val in args:\n",
    "        print(f\"Positional Arguments: {val}\")\n",
    "\n",
    "    for key,value in kwargs.items():\n",
    "        print(f\"{key}:{value}\")\n",
    "\n",
    "print_details(1,2,3,\"Saifee\",name=\"Guest\",age=32)"
   ]
  },
  {
   "cell_type": "code",
   "execution_count": 9,
   "metadata": {},
   "outputs": [
    {
     "data": {
      "text/plain": [
       "(5, 2)"
      ]
     },
     "execution_count": 9,
     "metadata": {},
     "output_type": "execute_result"
    }
   ],
   "source": [
    "### Returning multiple parameters\n",
    "def add(a,b):\n",
    "    return a+b,a\n",
    "\n",
    "add(2,3)"
   ]
  },
  {
   "cell_type": "code",
   "execution_count": 11,
   "metadata": {},
   "outputs": [
    {
     "name": "stdout",
     "output_type": "stream",
     "text": [
      "120\n"
     ]
    }
   ],
   "source": [
    "## Recursion function\n",
    "### Program for a factorical\n",
    "\n",
    "def factorial(n):\n",
    "    if n==0:\n",
    "        return 1\n",
    "    else:\n",
    "        return n * factorial(n-1)\n",
    "    \n",
    "print(factorial(5))"
   ]
  },
  {
   "cell_type": "code",
   "execution_count": 23,
   "metadata": {},
   "outputs": [
    {
     "name": "stdout",
     "output_type": "stream",
     "text": [
      "True\n",
      "False\n"
     ]
    }
   ],
   "source": [
    "## Password strength checker\n",
    "\n",
    "def check_password_strength(password):\n",
    "    if len(password) < 8:\n",
    "        return False\n",
    "    if not any(char.isdigit() for char in password):\n",
    "        return False\n",
    "    if not any(char.isupper() for char in password):\n",
    "        return False\n",
    "    if not any(char.islower() for char in password):\n",
    "        return False\n",
    "    if not any(char in '!@#$%^&*()' for char in password):\n",
    "        return False\n",
    "    return True\n",
    "\n",
    "print(check_password_strength(\"P@ssw0rd\"))\n",
    "print(check_password_strength(\"hello\"))\n"
   ]
  },
  {
   "cell_type": "markdown",
   "metadata": {},
   "source": [
    "##### Lambda Functions"
   ]
  },
  {
   "cell_type": "code",
   "execution_count": 24,
   "metadata": {},
   "outputs": [
    {
     "data": {
      "text/plain": [
       "<function __main__.<lambda>(parameter)>"
      ]
     },
     "execution_count": 24,
     "metadata": {},
     "output_type": "execute_result"
    }
   ],
   "source": [
    "### Syntax\n",
    "\n",
    "lambda parameter:expression"
   ]
  },
  {
   "cell_type": "code",
   "execution_count": 25,
   "metadata": {},
   "outputs": [
    {
     "name": "stdout",
     "output_type": "stream",
     "text": [
      "7\n"
     ]
    }
   ],
   "source": [
    "## Addition\n",
    "addition = lambda a,b: a+b\n",
    "\n",
    "print(addition(3,4))"
   ]
  },
  {
   "cell_type": "markdown",
   "metadata": {},
   "source": [
    "##### Map Functions"
   ]
  },
  {
   "cell_type": "code",
   "execution_count": 28,
   "metadata": {},
   "outputs": [
    {
     "data": {
      "text/plain": [
       "[1, 4, 9, 16, 25, 36, 49]"
      ]
     },
     "execution_count": 28,
     "metadata": {},
     "output_type": "execute_result"
    }
   ],
   "source": [
    "## Square of a list or any collection\n",
    "\n",
    "numbers = [1,2,3,4,5,6,7]\n",
    "\n",
    "def square(x):\n",
    "    return x**2;\n",
    "\n",
    "list(map(square, numbers))\n"
   ]
  },
  {
   "cell_type": "code",
   "execution_count": 29,
   "metadata": {},
   "outputs": [
    {
     "data": {
      "text/plain": [
       "[1, 4, 9, 16, 25, 36, 49]"
      ]
     },
     "execution_count": 29,
     "metadata": {},
     "output_type": "execute_result"
    }
   ],
   "source": [
    "## Lamda function with map\n",
    "\n",
    "list(map(lambda x:x**2, numbers))"
   ]
  },
  {
   "cell_type": "code",
   "execution_count": 31,
   "metadata": {},
   "outputs": [
    {
     "name": "stdout",
     "output_type": "stream",
     "text": [
      "[6, 9, 12]\n"
     ]
    }
   ],
   "source": [
    "## map() multiple iterables\n",
    "\n",
    "numbers1 = [1,2,4]\n",
    "numbers2 = [5,7,8]\n",
    "\n",
    "added_numbers = list(map(lambda x,y: x+y, numbers1, numbers2))\n",
    "print(added_numbers)"
   ]
  },
  {
   "cell_type": "code",
   "execution_count": 32,
   "metadata": {},
   "outputs": [
    {
     "name": "stdout",
     "output_type": "stream",
     "text": [
      "[1, 2, 3, 5, 6]\n"
     ]
    }
   ],
   "source": [
    "## map() to convert a list of string into int\n",
    "\n",
    "str = ['1','2','3','5','6']\n",
    "int_list = list((map(int, str)))\n",
    "print(int_list)"
   ]
  },
  {
   "cell_type": "code",
   "execution_count": 34,
   "metadata": {},
   "outputs": [
    {
     "data": {
      "text/plain": [
       "['One', 'Two']"
      ]
     },
     "execution_count": 34,
     "metadata": {},
     "output_type": "execute_result"
    }
   ],
   "source": [
    "## map() with dictionary\n",
    "\n",
    "def get_name(person):\n",
    "    return person['name']\n",
    "\n",
    "people = [\n",
    "    {\"name\":\"One\", \"age\":12},\n",
    "    {\"name\":\"Two\", \"age\":14}\n",
    "]\n",
    "\n",
    "list(map(get_name, people))"
   ]
  },
  {
   "cell_type": "markdown",
   "metadata": {},
   "source": [
    "##### Filter Function"
   ]
  },
  {
   "cell_type": "code",
   "execution_count": 40,
   "metadata": {},
   "outputs": [
    {
     "data": {
      "text/plain": [
       "[2, 4, 6, 56]"
      ]
     },
     "execution_count": 40,
     "metadata": {},
     "output_type": "execute_result"
    }
   ],
   "source": [
    "## Filter with function\n",
    "\n",
    "def even(num):\n",
    "    if num%2==0:\n",
    "        return True\n",
    "\n",
    "nums = [1,2,3,4,5,6,47,56]\n",
    "list(filter(even, nums))   "
   ]
  },
  {
   "cell_type": "code",
   "execution_count": 36,
   "metadata": {},
   "outputs": [
    {
     "name": "stdout",
     "output_type": "stream",
     "text": [
      "[6, 47, 56]\n"
     ]
    }
   ],
   "source": [
    "## Filter with lambda\n",
    "\n",
    "numbers = [1,2,3,3,5,6,47,56]\n",
    "greater_than_five = list(filter(lambda num:num>5, numbers))\n",
    "print(greater_than_five)"
   ]
  },
  {
   "cell_type": "code",
   "execution_count": 39,
   "metadata": {},
   "outputs": [
    {
     "name": "stdout",
     "output_type": "stream",
     "text": [
      "[6, 56]\n"
     ]
    }
   ],
   "source": [
    "## Filter with lambda with multiple conditions\n",
    "\n",
    "numbers = [1,2,3,4,5,6,47,56]\n",
    "even_and_greater_than_five = list(filter(lambda num:num>5 and num%2==0, numbers))\n",
    "print(greater_than_five)"
   ]
  },
  {
   "cell_type": "code",
   "execution_count": 41,
   "metadata": {},
   "outputs": [
    {
     "data": {
      "text/plain": [
       "[{'name': 'Three', 'age': 34}, {'name': 'Four', 'age': 55}]"
      ]
     },
     "execution_count": 41,
     "metadata": {},
     "output_type": "execute_result"
    }
   ],
   "source": [
    "## Filter with dictionary\n",
    "\n",
    "people = [\n",
    "    {\"name\":\"One\", \"age\":12},\n",
    "    {\"name\":\"Two\", \"age\":25},\n",
    "    {\"name\":\"Three\", \"age\":34},\n",
    "    {\"name\":\"Four\", \"age\":55}\n",
    "]\n",
    "\n",
    "def age_greater_than_25(person):\n",
    "    return person['age'] > 25\n",
    "\n",
    "list(filter(age_greater_than_25, people))\n"
   ]
  },
  {
   "cell_type": "code",
   "execution_count": 3,
   "metadata": {},
   "outputs": [
    {
     "data": {
      "text/plain": [
       "7"
      ]
     },
     "execution_count": 3,
     "metadata": {},
     "output_type": "execute_result"
    }
   ],
   "source": [
    "from package.maths import *\n",
    "addition(3,4)"
   ]
  },
  {
   "cell_type": "code",
   "execution_count": null,
   "metadata": {},
   "outputs": [],
   "source": []
  }
 ],
 "metadata": {
  "kernelspec": {
   "display_name": "Python 3",
   "language": "python",
   "name": "python3"
  },
  "language_info": {
   "codemirror_mode": {
    "name": "ipython",
    "version": 3
   },
   "file_extension": ".py",
   "mimetype": "text/x-python",
   "name": "python",
   "nbconvert_exporter": "python",
   "pygments_lexer": "ipython3",
   "version": "3.10.0"
  }
 },
 "nbformat": 4,
 "nbformat_minor": 2
}
