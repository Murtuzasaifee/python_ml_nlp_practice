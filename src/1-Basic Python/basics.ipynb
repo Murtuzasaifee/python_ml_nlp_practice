{
 "cells": [
  {
   "cell_type": "code",
   "execution_count": null,
   "metadata": {},
   "outputs": [],
   "source": [
    "## Dynamic Typic\n",
    "## Pyhton allows the type of varaible to change as the program executes\n",
    "\n",
    "var = 10\n",
    "print(var, type(var))\n",
    "\n",
    "var = \"hello\"\n",
    "print(var, type(var))\n",
    "\n",
    "var = 5.1\n",
    "print(var, type(var))"
   ]
  },
  {
   "cell_type": "code",
   "execution_count": null,
   "metadata": {},
   "outputs": [],
   "source": [
    "# Input\n",
    "\n",
    "age = input(\"Enter you age\")\n",
    "print(age, type(age))\n",
    "\n",
    "height = float(input(\"Enter your height\"))\n",
    "print(height, type(height))"
   ]
  },
  {
   "cell_type": "code",
   "execution_count": null,
   "metadata": {},
   "outputs": [],
   "source": [
    "# Prime numbers between 1 and 100\n",
    "\n",
    "for num in range(1, 101):\n",
    "    if num>1:\n",
    "        for i in range(2,num):\n",
    "            if num%i==0:\n",
    "                break\n",
    "        else:\n",
    "            print(num)\n"
   ]
  },
  {
   "cell_type": "code",
   "execution_count": null,
   "metadata": {},
   "outputs": [],
   "source": [
    "## Iterating with index\n",
    "\n",
    "numbers = [1,2,3,4,5,6,7,8,9,10]\n",
    "\n",
    "for index, number in enumerate(numbers):\n",
    "    print(index,number)"
   ]
  },
  {
   "cell_type": "markdown",
   "metadata": {},
   "source": [
    "##### List Comprehension\n",
    "\n",
    "Basic syntax                [expression for item in iterable]\n",
    "\n",
    "With conditional logic      [expression for item in iterable if condition]\n",
    "\n",
    "Nested comprehension        [expression for item1 in iterable for item2 in iterable]"
   ]
  },
  {
   "cell_type": "code",
   "execution_count": null,
   "metadata": {},
   "outputs": [],
   "source": [
    "### Without Comprehension\n",
    "\n",
    "lst= []\n",
    "for x in range(10):\n",
    "    lst.append(x**2)\n",
    "\n",
    "print(lst)"
   ]
  },
  {
   "cell_type": "code",
   "execution_count": null,
   "metadata": {},
   "outputs": [],
   "source": [
    "## With Comprehension\n",
    "\n",
    "[x**2 for x in range(10)]"
   ]
  },
  {
   "cell_type": "code",
   "execution_count": 7,
   "metadata": {},
   "outputs": [
    {
     "name": "stdout",
     "output_type": "stream",
     "text": [
      "[0, 2, 4, 6, 8]\n"
     ]
    }
   ],
   "source": [
    "## Comprehension with if condition \n",
    "\n",
    "## Get all even numbers in the list\n",
    "even_lst = [num for num in range(10) if num%2==0]\n",
    "print(even_lst)\n"
   ]
  },
  {
   "cell_type": "code",
   "execution_count": 2,
   "metadata": {},
   "outputs": [
    {
     "name": "stdout",
     "output_type": "stream",
     "text": [
      "[(1, 'a'), (1, 'b'), (1, 'c'), (1, 'd'), (2, 'a'), (2, 'b'), (2, 'c'), (2, 'd'), (3, 'a'), (3, 'b'), (3, 'c'), (3, 'd'), (4, 'a'), (4, 'b'), (4, 'c'), (4, 'd')]\n"
     ]
    }
   ],
   "source": [
    "### Nested list comprehension\n",
    "\n",
    "lst1 = [1,2,3,4]\n",
    "lst2 = ['a','b','c','d']\n",
    "\n",
    "pair = [ (i,j) for i in lst1 for j in lst2]\n",
    "print(pair)"
   ]
  },
  {
   "cell_type": "code",
   "execution_count": 5,
   "metadata": {},
   "outputs": [
    {
     "name": "stdout",
     "output_type": "stream",
     "text": [
      "[5, 5, 6]\n"
     ]
    }
   ],
   "source": [
    "### List comprehension with functions\n",
    "\n",
    "words = [\"hello\", \"world\", \"python\"]\n",
    "length = [len(i) for i in words]\n",
    "print(length)"
   ]
  },
  {
   "cell_type": "code",
   "execution_count": 7,
   "metadata": {},
   "outputs": [
    {
     "name": "stdout",
     "output_type": "stream",
     "text": [
      "2\n",
      "3\n"
     ]
    }
   ],
   "source": [
    "### Tuple methods\n",
    "\n",
    "numbers = (1,2,1,3,4,6,7)\n",
    "\n",
    "print(numbers.count(1))\n",
    "print(numbers.index(3))"
   ]
  },
  {
   "cell_type": "code",
   "execution_count": 9,
   "metadata": {},
   "outputs": [
    {
     "name": "stdout",
     "output_type": "stream",
     "text": [
      "(1, 'hello', 3.14)\n",
      "1\n",
      "hello\n",
      "3.14\n"
     ]
    }
   ],
   "source": [
    "### Packing and unpacking a tuple\n",
    "\n",
    "## packing\n",
    "packed_tuple = 1,\"hello\",3.14\n",
    "print(packed_tuple)\n",
    "\n",
    "## unpacking\n",
    "a,b,c = packed_tuple\n",
    "print(a)\n",
    "print(b)\n",
    "print(c)"
   ]
  },
  {
   "cell_type": "code",
   "execution_count": 10,
   "metadata": {},
   "outputs": [
    {
     "name": "stdout",
     "output_type": "stream",
     "text": [
      "1\n",
      "[2, 3, 4, 5, 6]\n",
      "7\n"
     ]
    }
   ],
   "source": [
    "### Unpacking with *\n",
    "\n",
    "numbers=(1,2,3,4,5,6,7)\n",
    "first,*middle,last= numbers\n",
    "print(first)\n",
    "print(middle)\n",
    "print(last)"
   ]
  },
  {
   "cell_type": "code",
   "execution_count": 14,
   "metadata": {},
   "outputs": [
    {
     "name": "stdout",
     "output_type": "stream",
     "text": [
      "[1, 2, 4]\n",
      "4\n",
      "[1, 2]\n"
     ]
    }
   ],
   "source": [
    "### Nested list\n",
    "lst = [[1,2,4],[5,6,7],[1,\"fs\",3,'a']]\n",
    "print(lst[0])\n",
    "print(lst[0][2])\n",
    "print(lst[0][0:2])"
   ]
  },
  {
   "cell_type": "code",
   "execution_count": 17,
   "metadata": {},
   "outputs": [
    {
     "name": "stdout",
     "output_type": "stream",
     "text": [
      "(1, 2, 4)\n",
      "fs\n"
     ]
    }
   ],
   "source": [
    "### Nested tuples\n",
    "nested_tuple = ((1,2,4),(5,6,7),(1,\"fs\",3,'a'))\n",
    "print(nested_tuple[0])\n",
    "print(nested_tuple[2][1])"
   ]
  },
  {
   "cell_type": "code",
   "execution_count": 18,
   "metadata": {},
   "outputs": [
    {
     "name": "stdout",
     "output_type": "stream",
     "text": [
      "1\n",
      "2\n",
      "4\n",
      "5\n",
      "6\n",
      "7\n",
      "1\n",
      "fs\n",
      "3\n",
      "a\n"
     ]
    }
   ],
   "source": [
    "## Iterating over nested tuples\n",
    "for sub_tuples in nested_tuple:\n",
    "    for item in sub_tuples:\n",
    "        print(item)"
   ]
  },
  {
   "cell_type": "code",
   "execution_count": 22,
   "metadata": {},
   "outputs": [
    {
     "name": "stdout",
     "output_type": "stream",
     "text": [
      "{1, 2, 3, 4, 5, 6, 7, 8}\n",
      "{1, 2, 3, 4, 5, 6, 7, 8}\n",
      "{1, 2, 4, 5, 6, 7, 8}\n"
     ]
    }
   ],
   "source": [
    "### Adding and removing elements from set\n",
    "\n",
    "number_set = {1,2,3,4,5,6,7}\n",
    "\n",
    "number_set.add(8)\n",
    "print(number_set)\n",
    "\n",
    "## Set contains only unique elemets, it will not add duplicate values\n",
    "number_set.add(8)\n",
    "print(number_set)\n",
    "\n",
    "number_set.remove(3)\n",
    "print(number_set)\n",
    "\n",
    "number_set.discard(13) ## remove element if present\n",
    "print(number_set)\n"
   ]
  },
  {
   "cell_type": "code",
   "execution_count": 23,
   "metadata": {},
   "outputs": [
    {
     "name": "stdout",
     "output_type": "stream",
     "text": [
      "True\n",
      "False\n"
     ]
    }
   ],
   "source": [
    "### Set Membership Test\n",
    "\n",
    "my_set = {1,2,3,4,5}\n",
    "print(3 in my_set)\n",
    "print(10 in my_set)"
   ]
  },
  {
   "cell_type": "code",
   "execution_count": 27,
   "metadata": {},
   "outputs": [
    {
     "name": "stdout",
     "output_type": "stream",
     "text": [
      "{1, 2, 3, 4, 5, 6, 7, 8, 9}\n",
      "{4, 5, 6, 7}\n",
      "{4, 5, 6, 7}\n",
      "set()\n"
     ]
    }
   ],
   "source": [
    "### Mathematical operations\n",
    "\n",
    "set1 = {1,2,3,4,5,6,7}\n",
    "set2 = {4,5,6,7,8,9}\n",
    "\n",
    "## Union\n",
    "union_set = set1.union(set2)\n",
    "print(union_set)\n",
    "\n",
    "## Intersection\n",
    "intersection_set = set1.intersection(set2)\n",
    "print(intersection_set)\n",
    "\n",
    "set1.intersection_update(set2)\n",
    "print(set1)\n",
    "\n"
   ]
  },
  {
   "cell_type": "code",
   "execution_count": 29,
   "metadata": {},
   "outputs": [
    {
     "name": "stdout",
     "output_type": "stream",
     "text": [
      "{1, 2, 3}\n",
      "{1, 2, 3, 8, 9}\n"
     ]
    }
   ],
   "source": [
    "set1 = {1,2,3,4,5,6,7}\n",
    "set2 = {4,5,6,7,8,9}\n",
    "\n",
    "## Difference\n",
    "print(set1.difference(set2))\n",
    "\n",
    "## Symmetrical Difference\n",
    "print(set1.symmetric_difference(set2))"
   ]
  },
  {
   "cell_type": "code",
   "execution_count": 30,
   "metadata": {},
   "outputs": [
    {
     "name": "stdout",
     "output_type": "stream",
     "text": [
      "{'python', 'practice', 'course', 'for', 'This', 'a', 'used', 'course.', 'is'}\n",
      "9\n"
     ]
    }
   ],
   "source": [
    "### Count unique words in a sentence\n",
    "\n",
    "sentence = \"This is a python course. This course is used for practice\"\n",
    "words = sentence.split()\n",
    "\n",
    "## Convert the list into set to the unique words\n",
    "unique_words = set(words)\n",
    "print(unique_words)\n",
    "print(len(unique_words))"
   ]
  },
  {
   "cell_type": "code",
   "execution_count": 39,
   "metadata": {},
   "outputs": [
    {
     "name": "stdout",
     "output_type": "stream",
     "text": [
      "{'name': 'John1', 'age': 23, 'address': 'LA'}\n",
      "{'name': 'John1', 'age': 23, 'address': 'LA'}\n",
      "{'name': 'John2', 'age': 23, 'address': 'LA'}\n",
      "{'name': 'John1', 'age': 23, 'address': 'LA'}\n"
     ]
    }
   ],
   "source": [
    "### Dictionaries \n",
    "\n",
    "student = {\"name\":\"John\", \"age\":23, \"address\":\"LA\"}\n",
    "\n",
    "## Shallow copy\n",
    "student_copy = student # this doesn't create a new copy, but have the reference to the same memory\n",
    "student[\"name\"] = \"John1\"\n",
    "print(student)\n",
    "print(student_copy)\n",
    "\n",
    "student_copy1 = student.copy() # This creates a shallow copy and assign the new memory\n",
    "student[\"name\"] = \"John2\"\n",
    "print(student)\n",
    "print(student_copy1)\n"
   ]
  },
  {
   "cell_type": "code",
   "execution_count": 40,
   "metadata": {},
   "outputs": [
    {
     "name": "stdout",
     "output_type": "stream",
     "text": [
      "name\n",
      "age\n",
      "address\n",
      "John2\n",
      "23\n",
      "LA\n",
      "name:John2\n",
      "age:23\n",
      "address:LA\n"
     ]
    }
   ],
   "source": [
    "## Iterating over the dictionary\n",
    "\n",
    "for key in student.keys():\n",
    "    print(key)\n",
    "\n",
    "\n",
    "for value in student.values():\n",
    "    print(value)\n",
    "\n",
    "for key,value in student.items():\n",
    "    print(f\"{key}:{value}\")"
   ]
  },
  {
   "cell_type": "code",
   "execution_count": 3,
   "metadata": {},
   "outputs": [
    {
     "name": "stdout",
     "output_type": "stream",
     "text": [
      "{0: 0, 1: 1, 2: 4, 3: 9, 4: 16, 5: 25, 6: 36, 7: 49, 8: 64, 9: 81}\n",
      "{0: 0, 2: 4, 4: 16, 6: 36, 8: 64}\n"
     ]
    }
   ],
   "source": [
    "## Dictionary comprehension\n",
    "\n",
    "## Square root of first 10 numbers\n",
    "square_root = {x:x**2 for x in range(10)}\n",
    "print(square_root)\n",
    "\n",
    "## Square root of only even numbers\n",
    "square_root_even = {x:x**2 for x in range(10) if x%2==0}\n",
    "print(square_root_even)\n"
   ]
  },
  {
   "cell_type": "code",
   "execution_count": 1,
   "metadata": {},
   "outputs": [
    {
     "name": "stdout",
     "output_type": "stream",
     "text": [
      "{'1': 1, '2': 2, '3': 3, '4': 4}\n"
     ]
    }
   ],
   "source": [
    "## Merge dictionary\n",
    "\n",
    "dct1 = {\"1\":1,\"2\":2}\n",
    "dct2 = {\"3\":3,\"4\":4}\n",
    "\n",
    "merge_dct = {**dct1,**dct2}\n",
    "print(merge_dct)"
   ]
  },
  {
   "cell_type": "code",
   "execution_count": null,
   "metadata": {},
   "outputs": [],
   "source": []
  }
 ],
 "metadata": {
  "kernelspec": {
   "display_name": "Python 3",
   "language": "python",
   "name": "python3"
  },
  "language_info": {
   "codemirror_mode": {
    "name": "ipython",
    "version": 3
   },
   "file_extension": ".py",
   "mimetype": "text/x-python",
   "name": "python",
   "nbconvert_exporter": "python",
   "pygments_lexer": "ipython3",
   "version": "3.10.0"
  }
 },
 "nbformat": 4,
 "nbformat_minor": 2
}
