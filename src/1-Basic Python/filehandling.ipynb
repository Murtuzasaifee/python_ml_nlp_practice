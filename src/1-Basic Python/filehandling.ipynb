{
 "cells": [
  {
   "cell_type": "code",
   "execution_count": 63,
   "metadata": {},
   "outputs": [],
   "source": [
    "import os"
   ]
  },
  {
   "cell_type": "code",
   "execution_count": 64,
   "metadata": {},
   "outputs": [],
   "source": [
    "def get_abs_path(filename):\n",
    "    try:\n",
    "        current_directory = os.getcwd()\n",
    "        file_path = os.path.join(current_directory, '..', 'resources', filename)\n",
    "        return os.path.abspath(file_path)\n",
    "    except Exception as ex:\n",
    "        print(ex)\n",
    "        return None\n",
    "  "
   ]
  },
  {
   "cell_type": "code",
   "execution_count": 65,
   "metadata": {},
   "outputs": [
    {
     "name": "stdout",
     "output_type": "stream",
     "text": [
      "Hello Word !!\n",
      "This is a new line\n"
     ]
    }
   ],
   "source": [
    "### Read a whole File\n",
    "try:\n",
    "    with open(get_abs_path('example.txt'), 'r') as file:\n",
    "        content = file.read()\n",
    "        print(content)\n",
    "except FileNotFoundError as ex:\n",
    "    print(ex)"
   ]
  },
  {
   "cell_type": "code",
   "execution_count": 66,
   "metadata": {},
   "outputs": [
    {
     "name": "stdout",
     "output_type": "stream",
     "text": [
      "[Errno 2] No such file or directory: '/Users/murtuzasaifee/Documents/Personal/Courses/python_ml_nlp_practice_code/resources/nofile.txt'\n"
     ]
    }
   ],
   "source": [
    "### Exception handling\n",
    "try:\n",
    "    with open(get_abs_path('nofile.txt'), 'r') as file:\n",
    "        content = file.read()\n",
    "        print(content)\n",
    "except FileNotFoundError as fn:\n",
    "    print(fn)\n",
    "except Exception as ex:\n",
    "    print(ex)\n",
    "    print(\"Main exception class\")"
   ]
  },
  {
   "cell_type": "code",
   "execution_count": 67,
   "metadata": {},
   "outputs": [
    {
     "name": "stdout",
     "output_type": "stream",
     "text": [
      "Hello Word !!\n",
      "This is a new line\n"
     ]
    }
   ],
   "source": [
    "### Read a file line by line\n",
    "with open(get_abs_path('example.txt'), 'r') as file:\n",
    "    for line in file:\n",
    "        print(line.strip())"
   ]
  },
  {
   "cell_type": "code",
   "execution_count": 68,
   "metadata": {},
   "outputs": [],
   "source": [
    "### Write a file\n",
    "\n",
    "with open(get_abs_path('example.txt'), 'w') as file:\n",
    "    file.write('Hello Word !!\\n')\n",
    "    file.write('This is a new line')"
   ]
  },
  {
   "cell_type": "code",
   "execution_count": 69,
   "metadata": {},
   "outputs": [],
   "source": [
    "### Write a file without overriting\n",
    "\n",
    "with open(get_abs_path('example.txt'), 'a') as file:\n",
    "    file.write('\\n')\n",
    "    file.write('Hello Word !!\\n')\n",
    "    file.write('This is a new line\\n')"
   ]
  },
  {
   "cell_type": "code",
   "execution_count": 70,
   "metadata": {},
   "outputs": [],
   "source": [
    "### Writing list of lines\n",
    "\n",
    "lines = [\"First Line\\n\", \"Second Line\\n\", \"Third Line\\n\"]\n",
    "\n",
    "with open(get_abs_path('example.txt'), 'a') as file:\n",
    "    file.writelines(lines)"
   ]
  },
  {
   "cell_type": "code",
   "execution_count": 71,
   "metadata": {},
   "outputs": [],
   "source": [
    "### Writing Binary File\n",
    "\n",
    "data = b'\\x001\\x01\\x02\\x03\\x04'\n",
    "with open(get_abs_path('example.bin'), 'wb') as file:\n",
    "    file.write(data)"
   ]
  },
  {
   "cell_type": "code",
   "execution_count": 72,
   "metadata": {},
   "outputs": [
    {
     "name": "stdout",
     "output_type": "stream",
     "text": [
      "b'\\x001\\x01\\x02\\x03\\x04'\n"
     ]
    }
   ],
   "source": [
    "### Read Binary File\n",
    "\n",
    "with open(get_abs_path('example.bin'), 'rb') as file:\n",
    "    print(file.read())"
   ]
  },
  {
   "cell_type": "code",
   "execution_count": 73,
   "metadata": {},
   "outputs": [
    {
     "name": "stdout",
     "output_type": "stream",
     "text": [
      "Lines = 7, Words = 22, Chars = 100\n"
     ]
    }
   ],
   "source": [
    "### Count No of lines, word and character from a file\n",
    "\n",
    "def count_text_file(file_path):\n",
    "    with open(file_path, 'r') as file:\n",
    "        lines = file.readlines()\n",
    "        line_count = len(lines)\n",
    "        word_count = sum((len(line.split()) for line in lines))\n",
    "        char_count = sum((len(line) for line in lines))\n",
    "    return line_count, word_count, char_count\n",
    "\n",
    "\n",
    "file_path = get_abs_path('example.txt')\n",
    "lines, words, chars = count_text_file(file_path)\n",
    "print(f'Lines = {lines}, Words = {words}, Chars = {chars}')\n",
    "\n",
    "        "
   ]
  },
  {
   "cell_type": "code",
   "execution_count": 74,
   "metadata": {},
   "outputs": [
    {
     "name": "stdout",
     "output_type": "stream",
     "text": [
      "Hello Word !!\n",
      "This is a new line\n"
     ]
    }
   ],
   "source": [
    "### Read and writing from a same file\n",
    "\n",
    "with open(get_abs_path('example.txt'), 'w+') as file:\n",
    "    file.write('Hello Word !!\\n')\n",
    "    file.write('This is a new line')\n",
    "\n",
    "    ## Move the cursor to the beginining of file\n",
    "    file.seek(0)\n",
    "\n",
    "    ## Read the file\n",
    "    content = file.read()\n",
    "    print(content)"
   ]
  },
  {
   "cell_type": "code",
   "execution_count": 75,
   "metadata": {},
   "outputs": [
    {
     "name": "stdout",
     "output_type": "stream",
     "text": [
      "Result is 0.43478260869565216\n"
     ]
    }
   ],
   "source": [
    "### try, except and else block\n",
    "\n",
    "try:\n",
    "    num = int(input(\"Enter a number:\"))\n",
    "    result = 10/num\n",
    "except ZeroDivisionError:\n",
    "    print(\"You can't divide by 0\")\n",
    "except ValueError:\n",
    "    print(\"Invalid Input !!\")\n",
    "except Exception as ex:\n",
    "    print(ex)\n",
    "else:\n",
    "    print(f\"Result is {result}\")"
   ]
  },
  {
   "cell_type": "code",
   "execution_count": 76,
   "metadata": {},
   "outputs": [
    {
     "name": "stdout",
     "output_type": "stream",
     "text": [
      "Result is 0.7692307692307693\n",
      "Excecution Complete\n"
     ]
    }
   ],
   "source": [
    "### try, except, else and finally block\n",
    "\n",
    "try:\n",
    "    num = int(input(\"Enter a number:\"))\n",
    "    result = 10/num\n",
    "except ZeroDivisionError:\n",
    "    print(\"You can't divide by 0\")\n",
    "except ValueError:\n",
    "    print(\"Invalid Input !!\")\n",
    "except Exception as ex:\n",
    "    print(ex)\n",
    "else:\n",
    "    print(f\"Result is {result}\")\n",
    "finally:\n",
    "    print(\"Excecution Complete\")"
   ]
  },
  {
   "cell_type": "code",
   "execution_count": 79,
   "metadata": {},
   "outputs": [
    {
     "name": "stdout",
     "output_type": "stream",
     "text": [
      "Hello Word !!\n",
      "This is a new line\n",
      "File closed\n"
     ]
    }
   ],
   "source": [
    " ### File exception handling\n",
    "try:\n",
    "    file = open(get_abs_path('example.txt'), 'r')\n",
    "    content = file.read()\n",
    "    print(content)\n",
    "except FileNotFoundError as ex:\n",
    "    print(ex)\n",
    "finally:\n",
    "    if 'file' in locals() or not file.closed():\n",
    "        file.close()\n",
    "        print('File closed')"
   ]
  },
  {
   "cell_type": "code",
   "execution_count": null,
   "metadata": {},
   "outputs": [],
   "source": []
  }
 ],
 "metadata": {
  "kernelspec": {
   "display_name": "Python 3",
   "language": "python",
   "name": "python3"
  },
  "language_info": {
   "codemirror_mode": {
    "name": "ipython",
    "version": 3
   },
   "file_extension": ".py",
   "mimetype": "text/x-python",
   "name": "python",
   "nbconvert_exporter": "python",
   "pygments_lexer": "ipython3",
   "version": "3.10.0"
  }
 },
 "nbformat": 4,
 "nbformat_minor": 2
}
