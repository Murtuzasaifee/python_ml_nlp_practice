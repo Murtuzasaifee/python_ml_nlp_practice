{
 "cells": [
  {
   "cell_type": "code",
   "execution_count": 1,
   "metadata": {},
   "outputs": [],
   "source": [
    "## Creating a class\n",
    "\n",
    "class BankAccount:\n",
    "\n",
    "    ## Construction\n",
    "    def __init__(self, owner, balance=0):\n",
    "        self.owner = owner ## Instance variable\n",
    "        self.balance = balance\n",
    "\n",
    "    ## Instance method\n",
    "    def deposit(self, amount):\n",
    "        self.balance+=amount\n",
    "        print(f\"{amount} has been deposisted. New balance is {self.balance}\")\n",
    "\n",
    "    def withdraw(self, amount):\n",
    "        if amount > self.balance:\n",
    "            print(f\"Insufficent funds\")\n",
    "        else:\n",
    "            self.balance-=amount\n",
    "            print(f\"{amount} has been withdraw. New balance is {self.balance}\")\n",
    "\n",
    "    def getBalance(self):\n",
    "        return self.balance"
   ]
  },
  {
   "cell_type": "code",
   "execution_count": null,
   "metadata": {},
   "outputs": [],
   "source": [
    "## Create an object\n",
    "\n",
    "account = BankAccount('Saifee')\n",
    "\n",
    "print(account.balance)\n",
    "\n",
    "account.deposit(2000)\n",
    "\n",
    "account.withdraw(200)\n",
    "\n",
    "print(account.getBalance())"
   ]
  },
  {
   "cell_type": "markdown",
   "metadata": {},
   "source": [
    "##### Inheritance"
   ]
  },
  {
   "cell_type": "code",
   "execution_count": 12,
   "metadata": {},
   "outputs": [],
   "source": [
    "## Single Inheritance\n",
    "\n",
    "## Parent Class\n",
    "class Car:\n",
    "\n",
    "    def __init__(self, doors, windows, engineType):\n",
    "        self.doors = doors\n",
    "        self.windows = windows\n",
    "        self.engineType = engineType\n",
    "\n",
    "    def drive(self):\n",
    "        print(f\"A Person is driving {self.engineType} car\")\n",
    "\n",
    "\n",
    "\n",
    "class Tesla(Car):\n",
    "\n",
    "    def __init__(self, doors, windows, engineType, isElectric):\n",
    "        super().__init__(doors, windows,engineType)\n",
    "        self.isElectric = isElectric\n",
    "\n",
    "    def selfDriving(self):\n",
    "        print(f\"Tesla supports self driving: {self.isElectric}\")\n",
    "\n",
    "\n"
   ]
  },
  {
   "cell_type": "code",
   "execution_count": null,
   "metadata": {},
   "outputs": [],
   "source": [
    "petrolCar= Car(4,5,\"Petrol\")\n",
    "petrolCar.drive()"
   ]
  },
  {
   "cell_type": "code",
   "execution_count": null,
   "metadata": {},
   "outputs": [],
   "source": [
    "tesla = Tesla(4,5,\"Electric\", True)\n",
    "tesla.drive()\n",
    "tesla.selfDriving()"
   ]
  },
  {
   "cell_type": "code",
   "execution_count": 26,
   "metadata": {},
   "outputs": [],
   "source": [
    "## Multiple Inheritance\n",
    "\n",
    "## Base Class 1\n",
    "class Animal:\n",
    "\n",
    "    def __init__(self,name):\n",
    "        self.name = name\n",
    "\n",
    "    def speak(self):\n",
    "        print(\"Derived class must implement this\")\n",
    "\n",
    "\n",
    "## Base Class 2\n",
    "class Pet:\n",
    "\n",
    "    def __init__(self, owner):\n",
    "        self.owner = owner\n",
    "\n",
    "    \n",
    "## Derived Class\n",
    "class Dog(Animal, Pet):\n",
    "\n",
    "    def __init__(self, name, owner):\n",
    "        Animal.__init__(self,name)\n",
    "        Pet.__init__(self,owner)\n",
    "\n",
    "    def speak(self):\n",
    "        return f\"{self.name} says woof\"\n",
    "    \n"
   ]
  },
  {
   "cell_type": "code",
   "execution_count": null,
   "metadata": {},
   "outputs": [],
   "source": [
    "dog = Dog(\"Lucy\", \"John\")\n",
    "dog.speak()"
   ]
  },
  {
   "cell_type": "markdown",
   "metadata": {},
   "source": [
    "##### Polymorphism"
   ]
  },
  {
   "cell_type": "code",
   "execution_count": null,
   "metadata": {},
   "outputs": [],
   "source": [
    "## Method Overriding\n",
    "\n",
    "class Animal:\n",
    "\n",
    "    def speak(self):\n",
    "        return \"Animal makes sound\"\n",
    "    \n",
    "class Dog(Animal):\n",
    "    def speak(self):\n",
    "        return \"Woof !!\"\n",
    "\n",
    "class Cat(Animal):\n",
    "    def speak(self):\n",
    "        return \"Meow!!\"\n",
    "\n",
    "\n",
    "## Polymorsphism\n",
    "\n",
    "def animal_speak(animal):\n",
    "    return animal.speak()\n",
    "\n",
    "\n",
    "dog = Dog()\n",
    "dog.speak()\n",
    "\n",
    "\n",
    "cat = Cat()\n",
    "cat.speak()\n",
    "\n",
    "animal_speak(dog)\n",
    "animal_speak(cat)"
   ]
  },
  {
   "cell_type": "code",
   "execution_count": null,
   "metadata": {},
   "outputs": [],
   "source": [
    "## Abstrcat Classes\n",
    "\n",
    "from abc import ABC, abstractmethod\n",
    "\n",
    "class Vehicle(ABC):\n",
    "    @abstractmethod\n",
    "    def start_engine(self):\n",
    "        pass\n",
    "\n",
    "\n",
    "class Car(Vehicle):\n",
    "    def start_engine(self):\n",
    "        return f\"Car engine started\"\n",
    "    \n",
    "\n",
    "class Truck(Vehicle):\n",
    "    def start_engine(self):\n",
    "        return f\"Truck engine started\"\n",
    "    \n",
    "\n",
    "def start_vehicle(vehicle):\n",
    "    print(vehicle.start_engine())\n",
    "\n",
    "car = Car()\n",
    "truck = Truck()\n",
    "\n",
    "start_vehicle(car)\n",
    "\n",
    "start_vehicle(truck)\n",
    "\n"
   ]
  },
  {
   "cell_type": "markdown",
   "metadata": {},
   "source": [
    "##### Encapsulation\n",
    "private, public and protected acccess modifiers"
   ]
  },
  {
   "cell_type": "code",
   "execution_count": null,
   "metadata": {},
   "outputs": [],
   "source": [
    "class Person:\n",
    "    def __init__(self, name, age, gender):\n",
    "        self.__name = name ## private variable\n",
    "        self._age = age ## protected variable\n",
    "        self.gender = gender ## public varaible\n",
    "\n",
    "class Employee(Person):\n",
    "    def __init__(self,name, age, gender):\n",
    "        super().__init__(name,age,gender)\n",
    "\n",
    "\n",
    "employee = Employee(\"Saifee\", 23, \"Male\")\n",
    "print(employee.__name) ## private varaible cannot access outside the class\n",
    "print(employee._age) ## protected varaible only be access from derived class\n",
    "print(employee.gender) ## public varaible can be access from anywhere\n",
    "\n",
    "    \n"
   ]
  },
  {
   "cell_type": "code",
   "execution_count": 11,
   "metadata": {},
   "outputs": [
    {
     "name": "stdout",
     "output_type": "stream",
     "text": [
      "Saifee:23\n",
      "Safee23:34\n"
     ]
    }
   ],
   "source": [
    "## Encapsulation with getter and setters\n",
    "\n",
    "class Person:\n",
    "    def __init__(self, name, age, gender):\n",
    "        self.__name = name \n",
    "        self.__age = age \n",
    "        self.__gender = gender \n",
    "\n",
    "    def getName(self):\n",
    "        return self.__name;\n",
    "\n",
    "    def setName(self, name):\n",
    "        self.__name = name\n",
    "\n",
    "    def getAge(self):\n",
    "        return self.__age;\n",
    "\n",
    "    def setAge(self, age):\n",
    "        self.__age = age\n",
    "\n",
    "\n",
    "person = Person(\"Saifee\", 23, \"Male\")\n",
    "print(f\"{person.getName()}:{person.getAge()}\")\n",
    "\n",
    "person.setName(\"Safee23\")\n",
    "person.setAge(\"34\")\n",
    "\n",
    "print(f\"{person.getName()}:{person.getAge()}\")"
   ]
  },
  {
   "cell_type": "markdown",
   "metadata": {},
   "source": [
    "##### Abstraction"
   ]
  },
  {
   "cell_type": "code",
   "execution_count": 14,
   "metadata": {},
   "outputs": [
    {
     "name": "stdout",
     "output_type": "stream",
     "text": [
      "The vehicle is used for driving\n",
      "Car engine started\n",
      "The vehicle is used for driving\n",
      "Truck engine started\n"
     ]
    }
   ],
   "source": [
    "## Abstrcat Classes\n",
    "\n",
    "from abc import ABC, abstractmethod\n",
    "\n",
    "class Vehicle(ABC):\n",
    "\n",
    "    def drive(self):\n",
    "        print(\"The vehicle is used for driving\")\n",
    "\n",
    "    @abstractmethod\n",
    "    def start_engine(self):\n",
    "        pass\n",
    "\n",
    "\n",
    "class Car(Vehicle):\n",
    "    def start_engine(self):\n",
    "        return f\"Car engine started\"\n",
    "    \n",
    "\n",
    "class Truck(Vehicle):\n",
    "    def start_engine(self):\n",
    "        return f\"Truck engine started\"\n",
    "    \n",
    "\n",
    "def start_vehicle(vehicle):\n",
    "    vehicle.drive()\n",
    "    print(vehicle.start_engine())\n",
    "\n",
    "car = Car()\n",
    "truck = Truck()\n",
    "\n",
    "start_vehicle(car)\n",
    "\n",
    "start_vehicle(truck)"
   ]
  },
  {
   "cell_type": "code",
   "execution_count": 17,
   "metadata": {},
   "outputs": [
    {
     "name": "stdout",
     "output_type": "stream",
     "text": [
      "Saifee : 34\n",
      "Person(name=Saifee, age=34)\n"
     ]
    }
   ],
   "source": [
    "## Overriding built-in magic methods of a class\n",
    "\n",
    "class Person:\n",
    "    def __init__(self, name, age):\n",
    "        self.name = name \n",
    "        self.age = age \n",
    "\n",
    "    def __str__(self):\n",
    "        return f\"{self.name} : {self.age}\"\n",
    "    \n",
    "    def __repr__(self):\n",
    "        return f\"Person(name={self.name}, age={self.age})\"\n",
    "    \n",
    "\n",
    "person = Person(\"Saifee\", 34)\n",
    "print(person) ## this is coming from the default __str__  method\n",
    "print(repr(person))"
   ]
  },
  {
   "cell_type": "markdown",
   "metadata": {},
   "source": [
    "##### Operator overloading\n",
    "override the default operator method  like addition, sub, mul, div, greater, less, equal etc"
   ]
  },
  {
   "cell_type": "code",
   "execution_count": 19,
   "metadata": {},
   "outputs": [
    {
     "name": "stdout",
     "output_type": "stream",
     "text": [
      "Vector(7,9)\n",
      "Vector(-3,-3)\n",
      "Vector(6,9)\n"
     ]
    }
   ],
   "source": [
    "## Mathematical operation for vector\n",
    "class Vector:\n",
    "\n",
    "    def __init__(self,x,y):\n",
    "        self.x = x\n",
    "        self.y = y\n",
    "\n",
    "    def __add__(self, other):\n",
    "        return Vector(self.x+other.x, self.y+other.y)\n",
    "    \n",
    "    def __sub__(self, other):\n",
    "        return Vector(self.x-other.x, self.y-other.y)\n",
    "    \n",
    "    def __mul__(self, other):\n",
    "        return Vector(self.x*other, self.y*other)\n",
    "    \n",
    "    def __eq__(self, other):\n",
    "        return self.x == other.x and self.y == other.y\n",
    "    \n",
    "    def __repr__(self):\n",
    "        return f\"Vector({self.x},{self.y})\"\n",
    "    \n",
    "\n",
    "vector1 = Vector(2,3)\n",
    "vector2 = Vector(5,6)\n",
    "\n",
    "print(vector1 + vector2)\n",
    "print(vector1-vector2)\n",
    "print(vector1 * 3)"
   ]
  },
  {
   "cell_type": "code",
   "execution_count": null,
   "metadata": {},
   "outputs": [],
   "source": []
  }
 ],
 "metadata": {
  "kernelspec": {
   "display_name": "Python 3",
   "language": "python",
   "name": "python3"
  },
  "language_info": {
   "codemirror_mode": {
    "name": "ipython",
    "version": 3
   },
   "file_extension": ".py",
   "mimetype": "text/x-python",
   "name": "python",
   "nbconvert_exporter": "python",
   "pygments_lexer": "ipython3",
   "version": "3.10.0"
  }
 },
 "nbformat": 4,
 "nbformat_minor": 2
}
